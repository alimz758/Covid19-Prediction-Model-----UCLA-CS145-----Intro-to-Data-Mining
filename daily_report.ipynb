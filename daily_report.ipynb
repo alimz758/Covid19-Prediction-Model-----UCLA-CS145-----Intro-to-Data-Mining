{
 "metadata": {
  "language_info": {
   "codemirror_mode": {
    "name": "ipython",
    "version": 3
   },
   "file_extension": ".py",
   "mimetype": "text/x-python",
   "name": "python",
   "nbconvert_exporter": "python",
   "pygments_lexer": "ipython3",
   "version": "3.8.3-final"
  },
  "orig_nbformat": 2,
  "kernelspec": {
   "name": "python_defaultSpec_1603695178292",
   "display_name": "Python 3.8.3 64-bit ('base': conda)"
  }
 },
 "nbformat": 4,
 "nbformat_minor": 2,
 "cells": [
  {
   "cell_type": "code",
   "execution_count": 3,
   "metadata": {},
   "outputs": [],
   "source": [
    "#importing libraries \n",
    "import pandas as pd\n",
    "import numpy as np\n",
    "import matplotlib.pyplot as plt\n",
    "import time\n",
    "from create_final_df import CreateDataframe\n",
    "from polynomial_regression import PolynomialRegression"
   ]
  },
  {
   "cell_type": "code",
   "execution_count": 4,
   "metadata": {
    "tags": []
   },
   "outputs": [
    {
     "output_type": "execute_result",
     "data": {
      "text/plain": "     Days   Date  Georgia  North Carolina  Wyoming  New Hampshire  Wisconsin  \\\n0       1  04-12    12452            4570      270            929       3341   \n1       2  04-13    13315            4886      275            985       3428   \n2       3  04-14    14578            5113      282            922       3555   \n3       4  04-15    14987            5340      287           1139       3721   \n4       5  04-16    15669            5639      296           1139       3875   \n..    ...    ...      ...             ...      ...            ...        ...   \n137   138  08-27   263074          161076     3733           7194      73138   \n138   139  08-28   265372          162491     3803           7216      73981   \n139   140  08-29   267758          165076     3795           7246      74800   \n140   141  08-30   268973          166127     3829           7254      75337   \n141   142  08-31   270471          167309     3850           7275      75603   \n\n     Minnesota  Maryland  Pennsylvania  ...  Idaho  Oregon   Iowa  Vermont  \\\n0         1621      8225         22938  ...   1407    1527   1587      727   \n1         1621      8936         24292  ...   1426    1584   1710      748   \n2         1695      9472         25465  ...   1464    1633   1899      752   \n3         1809     10032         26753  ...   1473    1663   1995      759   \n4         1809     10784         28258  ...   1587    1736   2141      774   \n..         ...       ...           ...  ...    ...     ...    ...      ...   \n137      72390    106063        135912  ...  31113   25761  61488     1586   \n138      73240    106664        136781  ...  31376   26054  62828     1589   \n139      74257    107294        137576  ...  31668   26293  63612     1605   \n140      75189    107791        138134  ...  31858   26554  64599     1616   \n141      75864    108249        138795  ...  32081   26713  65139     1624   \n\n     West Virginia  Kansas  New Jersey  Washington  Missouri  Rhode Island  \n0              593    1344       61850       10609      4269          2665  \n1              611    1390       64584       10635      4515          2665  \n2              640    1441       68824       10799      4746          3251  \n3              702    1504       71030       10942      4791          3251  \n4              728    1615       75317       11057      5174          3529  \n..             ...     ...         ...         ...       ...           ...  \n137           9633   40360      190613       72703     80214         21589  \n138           9826   41050      190971       73301     81672         21683  \n139           9970   41595      191320       73879     83168         21683  \n140          10109   41761      191611       74320     84474         21683  \n141          10249   42599      191960       74635     85635         21949  \n\n[142 rows x 53 columns]",
      "text/html": "<div>\n<style scoped>\n    .dataframe tbody tr th:only-of-type {\n        vertical-align: middle;\n    }\n\n    .dataframe tbody tr th {\n        vertical-align: top;\n    }\n\n    .dataframe thead th {\n        text-align: right;\n    }\n</style>\n<table border=\"1\" class=\"dataframe\">\n  <thead>\n    <tr style=\"text-align: right;\">\n      <th></th>\n      <th>Days</th>\n      <th>Date</th>\n      <th>Georgia</th>\n      <th>North Carolina</th>\n      <th>Wyoming</th>\n      <th>New Hampshire</th>\n      <th>Wisconsin</th>\n      <th>Minnesota</th>\n      <th>Maryland</th>\n      <th>Pennsylvania</th>\n      <th>...</th>\n      <th>Idaho</th>\n      <th>Oregon</th>\n      <th>Iowa</th>\n      <th>Vermont</th>\n      <th>West Virginia</th>\n      <th>Kansas</th>\n      <th>New Jersey</th>\n      <th>Washington</th>\n      <th>Missouri</th>\n      <th>Rhode Island</th>\n    </tr>\n  </thead>\n  <tbody>\n    <tr>\n      <th>0</th>\n      <td>1</td>\n      <td>04-12</td>\n      <td>12452</td>\n      <td>4570</td>\n      <td>270</td>\n      <td>929</td>\n      <td>3341</td>\n      <td>1621</td>\n      <td>8225</td>\n      <td>22938</td>\n      <td>...</td>\n      <td>1407</td>\n      <td>1527</td>\n      <td>1587</td>\n      <td>727</td>\n      <td>593</td>\n      <td>1344</td>\n      <td>61850</td>\n      <td>10609</td>\n      <td>4269</td>\n      <td>2665</td>\n    </tr>\n    <tr>\n      <th>1</th>\n      <td>2</td>\n      <td>04-13</td>\n      <td>13315</td>\n      <td>4886</td>\n      <td>275</td>\n      <td>985</td>\n      <td>3428</td>\n      <td>1621</td>\n      <td>8936</td>\n      <td>24292</td>\n      <td>...</td>\n      <td>1426</td>\n      <td>1584</td>\n      <td>1710</td>\n      <td>748</td>\n      <td>611</td>\n      <td>1390</td>\n      <td>64584</td>\n      <td>10635</td>\n      <td>4515</td>\n      <td>2665</td>\n    </tr>\n    <tr>\n      <th>2</th>\n      <td>3</td>\n      <td>04-14</td>\n      <td>14578</td>\n      <td>5113</td>\n      <td>282</td>\n      <td>922</td>\n      <td>3555</td>\n      <td>1695</td>\n      <td>9472</td>\n      <td>25465</td>\n      <td>...</td>\n      <td>1464</td>\n      <td>1633</td>\n      <td>1899</td>\n      <td>752</td>\n      <td>640</td>\n      <td>1441</td>\n      <td>68824</td>\n      <td>10799</td>\n      <td>4746</td>\n      <td>3251</td>\n    </tr>\n    <tr>\n      <th>3</th>\n      <td>4</td>\n      <td>04-15</td>\n      <td>14987</td>\n      <td>5340</td>\n      <td>287</td>\n      <td>1139</td>\n      <td>3721</td>\n      <td>1809</td>\n      <td>10032</td>\n      <td>26753</td>\n      <td>...</td>\n      <td>1473</td>\n      <td>1663</td>\n      <td>1995</td>\n      <td>759</td>\n      <td>702</td>\n      <td>1504</td>\n      <td>71030</td>\n      <td>10942</td>\n      <td>4791</td>\n      <td>3251</td>\n    </tr>\n    <tr>\n      <th>4</th>\n      <td>5</td>\n      <td>04-16</td>\n      <td>15669</td>\n      <td>5639</td>\n      <td>296</td>\n      <td>1139</td>\n      <td>3875</td>\n      <td>1809</td>\n      <td>10784</td>\n      <td>28258</td>\n      <td>...</td>\n      <td>1587</td>\n      <td>1736</td>\n      <td>2141</td>\n      <td>774</td>\n      <td>728</td>\n      <td>1615</td>\n      <td>75317</td>\n      <td>11057</td>\n      <td>5174</td>\n      <td>3529</td>\n    </tr>\n    <tr>\n      <th>...</th>\n      <td>...</td>\n      <td>...</td>\n      <td>...</td>\n      <td>...</td>\n      <td>...</td>\n      <td>...</td>\n      <td>...</td>\n      <td>...</td>\n      <td>...</td>\n      <td>...</td>\n      <td>...</td>\n      <td>...</td>\n      <td>...</td>\n      <td>...</td>\n      <td>...</td>\n      <td>...</td>\n      <td>...</td>\n      <td>...</td>\n      <td>...</td>\n      <td>...</td>\n      <td>...</td>\n    </tr>\n    <tr>\n      <th>137</th>\n      <td>138</td>\n      <td>08-27</td>\n      <td>263074</td>\n      <td>161076</td>\n      <td>3733</td>\n      <td>7194</td>\n      <td>73138</td>\n      <td>72390</td>\n      <td>106063</td>\n      <td>135912</td>\n      <td>...</td>\n      <td>31113</td>\n      <td>25761</td>\n      <td>61488</td>\n      <td>1586</td>\n      <td>9633</td>\n      <td>40360</td>\n      <td>190613</td>\n      <td>72703</td>\n      <td>80214</td>\n      <td>21589</td>\n    </tr>\n    <tr>\n      <th>138</th>\n      <td>139</td>\n      <td>08-28</td>\n      <td>265372</td>\n      <td>162491</td>\n      <td>3803</td>\n      <td>7216</td>\n      <td>73981</td>\n      <td>73240</td>\n      <td>106664</td>\n      <td>136781</td>\n      <td>...</td>\n      <td>31376</td>\n      <td>26054</td>\n      <td>62828</td>\n      <td>1589</td>\n      <td>9826</td>\n      <td>41050</td>\n      <td>190971</td>\n      <td>73301</td>\n      <td>81672</td>\n      <td>21683</td>\n    </tr>\n    <tr>\n      <th>139</th>\n      <td>140</td>\n      <td>08-29</td>\n      <td>267758</td>\n      <td>165076</td>\n      <td>3795</td>\n      <td>7246</td>\n      <td>74800</td>\n      <td>74257</td>\n      <td>107294</td>\n      <td>137576</td>\n      <td>...</td>\n      <td>31668</td>\n      <td>26293</td>\n      <td>63612</td>\n      <td>1605</td>\n      <td>9970</td>\n      <td>41595</td>\n      <td>191320</td>\n      <td>73879</td>\n      <td>83168</td>\n      <td>21683</td>\n    </tr>\n    <tr>\n      <th>140</th>\n      <td>141</td>\n      <td>08-30</td>\n      <td>268973</td>\n      <td>166127</td>\n      <td>3829</td>\n      <td>7254</td>\n      <td>75337</td>\n      <td>75189</td>\n      <td>107791</td>\n      <td>138134</td>\n      <td>...</td>\n      <td>31858</td>\n      <td>26554</td>\n      <td>64599</td>\n      <td>1616</td>\n      <td>10109</td>\n      <td>41761</td>\n      <td>191611</td>\n      <td>74320</td>\n      <td>84474</td>\n      <td>21683</td>\n    </tr>\n    <tr>\n      <th>141</th>\n      <td>142</td>\n      <td>08-31</td>\n      <td>270471</td>\n      <td>167309</td>\n      <td>3850</td>\n      <td>7275</td>\n      <td>75603</td>\n      <td>75864</td>\n      <td>108249</td>\n      <td>138795</td>\n      <td>...</td>\n      <td>32081</td>\n      <td>26713</td>\n      <td>65139</td>\n      <td>1624</td>\n      <td>10249</td>\n      <td>42599</td>\n      <td>191960</td>\n      <td>74635</td>\n      <td>85635</td>\n      <td>21949</td>\n    </tr>\n  </tbody>\n</table>\n<p>142 rows × 53 columns</p>\n</div>"
     },
     "metadata": {},
     "execution_count": 4
    }
   ],
   "source": [
    "df = CreateDataframe()\n",
    "confirmed_df = df.get_final_df('Confirmed')\n",
    "deaths_df = df.get_final_df('Deaths')\n",
    "recovered_df = df.get_final_df('Recovered')\n",
    "confirmed_df"
   ]
  },
  {
   "cell_type": "code",
   "execution_count": 5,
   "metadata": {
    "tags": []
   },
   "outputs": [],
   "source": [
    "#Create a dictionary of DF\n",
    "confirmed_states_df = {}\n",
    "training_days = np.array(confirmed_df[\"Days\"]).reshape(-1, 1)\n",
    "for column in confirmed_df: \n",
    "    if column != 'Days' and column != 'Date':\n",
    "       confirmed_states_df[column] = confirmed_df[column]    "
   ]
  },
  {
   "cell_type": "code",
   "execution_count": 8,
   "metadata": {
    "tags": []
   },
   "outputs": [],
   "source": [
    "# creating list to store PR(degree=2) objects of states     \n",
    "confirmed_states_model_list = [] \n",
    "for state_name, state_df in confirmed_states_df.items():\n",
    "    pr_degree_2 = PolynomialRegression(2, state_name)\n",
    "    pr_degree_2.train(training_days, state_df)\n",
    "    confirmed_states_model_list.append(pr_degree_2)"
   ]
  },
  {
   "cell_type": "code",
   "execution_count": 13,
   "metadata": {
    "tags": []
   },
   "outputs": [],
   "source": [
    "#PR Degree 2 predicitions, store prediciton fo each state in a dict\n",
    "confirmed_states_pred_dict = {} \n",
    "period = len(training_days)\n",
    "upcoming_days = 26\n",
    "days = np.array(range(period, period + upcoming_days)).reshape(-1, 1)\n",
    "for model in confirmed_states_model_list:\n",
    "    confirmed_states_pred_dict[model.state_name] = model.get_predictions(days)"
   ]
  },
  {
   "cell_type": "code",
   "execution_count": 14,
   "metadata": {
    "tags": []
   },
   "outputs": [
    {
     "output_type": "stream",
     "name": "stdout",
     "text": "The prediction in California Sep 1st till 26th are: \n09/1/2020: 763519\n09/2/2020: 774251\n09/3/2020: 785063\n09/4/2020: 795953\n09/5/2020: 806921\n09/6/2020: 817968\n09/7/2020: 829093\n09/8/2020: 840297\n09/9/2020: 851580\n09/10/2020: 862941\n09/11/2020: 874380\n09/12/2020: 885898\n09/13/2020: 897495\n09/14/2020: 909170\n09/15/2020: 920924\n09/16/2020: 932756\n09/17/2020: 944666\n09/18/2020: 956656\n09/19/2020: 968723\n09/20/2020: 980869\n09/21/2020: 993094\n09/22/2020: 1005398\n09/23/2020: 1017779\n09/24/2020: 1030240\n09/25/2020: 1042779\n09/26/2020: 1055396\n"
    }
   ],
   "source": [
    "#Just testing California\n",
    "print(\"The prediction in California Sep 1st till 26th are: \")\n",
    "for i in range(26):\n",
    "        print(\"09/\" + str(i + 1) + \"/2020: \" + str(confirmed_states_pred_dict['California'][i]))"
   ]
  },
  {
   "cell_type": "code",
   "execution_count": null,
   "metadata": {},
   "outputs": [],
   "source": []
  }
 ]
}