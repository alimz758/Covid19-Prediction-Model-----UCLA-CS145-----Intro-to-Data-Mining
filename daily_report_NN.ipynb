{
 "metadata": {
  "language_info": {
   "codemirror_mode": {
    "name": "ipython",
    "version": 3
   },
   "file_extension": ".py",
   "mimetype": "text/x-python",
   "name": "python",
   "nbconvert_exporter": "python",
   "pygments_lexer": "ipython3",
   "version": "3.8.3-final"
  },
  "orig_nbformat": 2,
  "kernelspec": {
   "name": "python_defaultSpec_1604002839271",
   "display_name": "Python 3.8.3 64-bit ('base': conda)"
  }
 },
 "nbformat": 4,
 "nbformat_minor": 2,
 "cells": [
  {
   "cell_type": "code",
   "execution_count": 1,
   "metadata": {},
   "outputs": [],
   "source": [
    "#importing libraries \n",
    "import pandas as pd\n",
    "import numpy as np\n",
    "import matplotlib.pyplot as plt\n",
    "import time\n",
    "from create_final_df import CreateDataframe\n",
    "from neural_network import NeuralNetwork\n",
    "from sklearn.model_selection import GridSearchCV\n"
   ]
  },
  {
   "cell_type": "code",
   "execution_count": 2,
   "metadata": {
    "tags": []
   },
   "outputs": [],
   "source": [
    "df = CreateDataframe()\n",
    "## =======  Create time series df  for confirmed and deaths ====== \n",
    "confirmed_df = df.get_final_df('Confirmed')\n",
    "deaths_df = df.get_final_df('Deaths')\n",
    "## ===================== Storing each state's DF in a Dict =======\n",
    "per_state_df_dic = df.get_per_state_df()"
   ]
  },
  {
   "cell_type": "code",
   "execution_count": 3,
   "metadata": {
    "tags": []
   },
   "outputs": [],
   "source": [
    "#Create a dictionary of DF\n",
    "confirmed_states_df = {}\n",
    "training_days = np.array(confirmed_df[\"Days\"]).reshape(-1, 1)\n",
    "for column in confirmed_df: \n",
    "    if column != 'Days' and column != 'Date':\n",
    "       confirmed_states_df[column] = confirmed_df[column] "
   ]
  },
  {
   "cell_type": "code",
   "execution_count": 4,
   "metadata": {},
   "outputs": [],
   "source": [
    "confirmed_states_model_list = [] \n",
    "learning_rate_init = 0.0001 # 0.00001  made it worse\n",
    "max_iter = 500000\n",
    "hidden_layer_sizes = (80, 80)\n",
    "learning_rate = \"adaptive\" # default 'constant'\n",
    "#TODO : Since for all states would take time, You can just use one state modeling and comment the loop\n",
    "#for state_name, state_df in confirmed_states_df.items():\n",
    "nn = NeuralNetwork('California')\n",
    "nn.train(training_days, confirmed_states_df['California'], hidden_layer_sizes, learning_rate_init, max_iter, learning_rate)\n",
    "confirmed_states_model_list.append(nn)"
   ]
  },
  {
   "cell_type": "code",
   "execution_count": 5,
   "metadata": {
    "tags": []
   },
   "outputs": [],
   "source": [
    "#NN predicitions, store prediciton fo each state in a dict\n",
    "confirmed_states_pred_dict = {} \n",
    "period = len(training_days)\n",
    "upcoming_days = 26\n",
    "days = np.array(range(period, period + upcoming_days)).reshape(-1, 1)\n",
    "for model in confirmed_states_model_list:\n",
    "    confirmed_states_pred_dict[model.state_name] = model.get_predictions(days)"
   ]
  },
  {
   "cell_type": "code",
   "execution_count": 6,
   "metadata": {
    "tags": []
   },
   "outputs": [
    {
     "output_type": "stream",
     "name": "stdout",
     "text": "The prediction in Georgia Sep 1st till 26th are: \n09/1/2020: 724119\n09/2/2020: 731278\n09/3/2020: 738437\n09/4/2020: 745597\n09/5/2020: 752756\n09/6/2020: 759915\n09/7/2020: 767074\n09/8/2020: 774234\n09/9/2020: 781393\n09/10/2020: 788552\n09/11/2020: 795711\n09/12/2020: 802871\n09/13/2020: 810030\n09/14/2020: 817189\n09/15/2020: 824348\n09/16/2020: 831508\n09/17/2020: 838667\n09/18/2020: 845826\n09/19/2020: 852985\n09/20/2020: 860145\n09/21/2020: 867304\n09/22/2020: 874463\n09/23/2020: 881622\n09/24/2020: 888782\n09/25/2020: 895941\n09/26/2020: 903100\n"
    }
   ],
   "source": [
    "#Just testing California\n",
    "print(\"The prediction in California Sep 1st till 26th are: \")\n",
    "for i in range(26):\n",
    "        print(\"09/\" + str(i + 1) + \"/2020: \" + str(confirmed_states_pred_dict['California'][i]))"
   ]
  },
  {
   "cell_type": "code",
   "execution_count": null,
   "metadata": {},
   "outputs": [],
   "source": []
  }
 ]
}